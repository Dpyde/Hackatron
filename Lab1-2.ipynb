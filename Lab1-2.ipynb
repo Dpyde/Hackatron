{
 "cells": [
  {
   "cell_type": "markdown",
   "id": "b44925bc",
   "metadata": {},
   "source": [
    "# Machine Learning"
   ]
  },
  {
   "cell_type": "markdown",
   "id": "20198b0d",
   "metadata": {},
   "source": [
    "### 2. Can you group the customers  by purchasing behavior? (clustering)"
   ]
  },
  {
   "cell_type": "markdown",
   "metadata": {},
   "source": [
    "## Import Library"
   ]
  },
  {
   "cell_type": "code",
   "execution_count": null,
   "id": "48344089",
   "metadata": {},
   "outputs": [],
   "source": [
    "# Import Library\n",
    "import pandas as pd\n",
    "import os\n",
    "\n",
    "import matplotlib.pyplot as plt\n",
    "from sklearn.cluster import KMeans\n",
    "\n",
    "pd.options.mode.chained_assignment = None\n",
    "pd.options.display.float_format = '{:.2f}'.format"
   ]
  },
  {
   "cell_type": "markdown",
   "id": "d560c67b",
   "metadata": {},
   "source": [
    "## Prepare Data"
   ]
  },
  {
   "cell_type": "code",
   "execution_count": null,
   "id": "3ca6c04c",
   "metadata": {},
   "outputs": [],
   "source": [
    "data_dir = \"clean_data\"\n",
    "OCNR = pd.read_csv(f\"{data_dir}/OCNR.csv\")\n",
    "SNR = pd.read_csv(f\"{data_dir}/SNR.csv\")\n",
    "L = pd.read_csv(f\"{data_dir}/L.csv\")\n",
    "P = pd.read_csv(f\"{data_dir}/P.csv\")\n",
    "PS = pd.read_csv(f\"{data_dir}/PS.csv\")"
   ]
  },
  {
   "cell_type": "code",
   "execution_count": null,
   "id": "f407d004",
   "metadata": {},
   "outputs": [],
   "source": [
    "LOCNR = pd.merge(left = L,\n",
    "                 right=OCNR,\n",
    "                 left_on='L_ORDERKEY',\n",
    "                 right_on='O_ORDERKEY',\n",
    "                 how='inner')"
   ]
  },
  {
   "cell_type": "code",
   "execution_count": null,
   "id": "c7c1d382",
   "metadata": {},
   "outputs": [],
   "source": [
    "LOCNRP = pd.merge(left = LOCNR,\n",
    "                  right = P,\n",
    "                  left_on = 'L_PARTKEY',\n",
    "                  right_on = 'P_PARTKEY',\n",
    "                  how = 'inner')"
   ]
  },
  {
   "cell_type": "code",
   "execution_count": null,
   "id": "845035ba",
   "metadata": {},
   "outputs": [],
   "source": [
    "LOCNRP['DUMMY_COUNT'] = 1"
   ]
  },
  {
   "cell_type": "code",
   "execution_count": null,
   "id": "82110b22",
   "metadata": {},
   "outputs": [],
   "source": [
    "LOCNRP.info()"
   ]
  },
  {
   "cell_type": "code",
   "execution_count": null,
   "id": "00111645",
   "metadata": {},
   "outputs": [],
   "source": [
    "AGG_df2 = LOCNRP.groupby(['O_CUSTKEY'], as_index=False).agg(\n",
    "    SUM_QUANTITY=(\"L_QUANTITY\", 'sum'),\n",
    "    MEAN_QUANTITY=(\"L_QUANTITY\", 'mean'),\n",
    "    MEAN_EXTENDEDPRICE=(\"L_EXTENDEDPRICE\",'mean'),\n",
    "    MEAN_TAX=(\"L_TAX\",'mean'),\n",
    "    MEAN_RETAILPRICE=(\"P_RETAILPRICE\",'mean'),\n",
    "    MEAN_LEADDAY=(\"LEADDAY\",'mean'),\n",
    "    MAX_LEADDAY=(\"LEADDAY\",'max'),\n",
    "    MIN_LEADDAY=(\"LEADDAY\",'min'),\n",
    "    SUM_TOTAL_SALE=(\"O_TOTALPRICE\",'sum'),\n",
    "    MEAN_TOTAL_SALE=(\"O_TOTALPRICE\",'mean'),\n",
    "    TOTAL_ORDERS=(\"DUMMY_COUNT\",'sum')\n",
    ")"
   ]
  },
  {
   "cell_type": "code",
   "execution_count": null,
   "id": "da7b7552",
   "metadata": {},
   "outputs": [],
   "source": [
    "AGG_df2.head()"
   ]
  },
  {
   "cell_type": "markdown",
   "id": "2a57cd0f",
   "metadata": {},
   "source": [
    "## K-Mean Clustering"
   ]
  },
  {
   "cell_type": "markdown",
   "id": "338335dc",
   "metadata": {},
   "source": [
    "### Elbow Method"
   ]
  },
  {
   "cell_type": "code",
   "execution_count": null,
   "id": "dbd86cce",
   "metadata": {},
   "outputs": [],
   "source": [
    "cs = []\n",
    "for i in range(1, 11):\n",
    "    kmeans = KMeans(n_clusters = i, init = 'k-means++', max_iter = 300, n_init = 10, random_state = 0)\n",
    "    kmeans.fit(AGG_df2)\n",
    "    cs.append(kmeans.inertia_)\n",
    "plt.plot(range(1, 11), cs)\n",
    "plt.title('The Elbow Method')\n",
    "plt.xlabel('Number of clusters')\n",
    "plt.ylabel('CS')\n",
    "plt.show()"
   ]
  },
  {
   "cell_type": "markdown",
   "id": "9a5c2009",
   "metadata": {},
   "source": [
    "### Train Model"
   ]
  },
  {
   "cell_type": "code",
   "execution_count": null,
   "id": "afbf5cd9",
   "metadata": {},
   "outputs": [],
   "source": [
    "from sklearn.cluster import KMeans\n",
    "\n",
    "kmeans = KMeans(n_clusters=4,random_state=1)\n",
    "\n",
    "kmeans.fit(AGG_df2)\n",
    "\n",
    "AGG_df2['CLUSTER'] = kmeans.labels_"
   ]
  },
  {
   "cell_type": "code",
   "execution_count": null,
   "id": "f400c31c",
   "metadata": {},
   "outputs": [],
   "source": [
    "AGG_df2.head(10)"
   ]
  },
  {
   "cell_type": "markdown",
   "id": "617a0065",
   "metadata": {},
   "source": [
    "### Result"
   ]
  },
  {
   "cell_type": "code",
   "execution_count": null,
   "id": "935bc86b",
   "metadata": {},
   "outputs": [],
   "source": [
    "x = AGG_df2['SUM_QUANTITY']\n",
    "y = AGG_df2['SUM_TOTAL_SALE']\n",
    "Cluster = AGG_df2['CLUSTER']\n",
    "\n",
    "fig = plt.figure(figsize=(10,10))\n",
    "ax = fig.add_subplot(111)\n",
    "\n",
    "scatter = ax.scatter(x,y,c=Cluster,s=50)\n",
    "ax.set_xlabel('Total Quantities')\n",
    "ax.set_ylabel('Total Sales')\n",
    "plt.colorbar(scatter)\n",
    "\n",
    "#fig.savefig('ClusterSales.png', bbox_inches='tight')\n",
    "#fig.show()"
   ]
  },
  {
   "cell_type": "code",
   "execution_count": null,
   "id": "4bc6d839",
   "metadata": {},
   "outputs": [],
   "source": [
    "x = AGG_df2['TOTAL_ORDERS']\n",
    "y = AGG_df2['MEAN_LEADDAY']\n",
    "Cluster = AGG_df2['CLUSTER']\n",
    "\n",
    "fig = plt.figure(figsize=(10,10))\n",
    "ax = fig.add_subplot(111)\n",
    "\n",
    "scatter = ax.scatter(x,y,c=Cluster,s=50)\n",
    "ax.set_xlabel('Total Orders')\n",
    "ax.set_ylabel('Average Lead Days')\n",
    "plt.colorbar(scatter)\n",
    "\n",
    "#fig.savefig('ClusterOrders.png', bbox_inches='tight')\n",
    "#fig.show()"
   ]
  },
  {
   "cell_type": "markdown",
   "id": "36f18c94",
   "metadata": {},
   "source": [
    "## Download Data"
   ]
  },
  {
   "cell_type": "code",
   "execution_count": null,
   "id": "d13b3778",
   "metadata": {},
   "outputs": [],
   "source": [
    "#Create output folder if not exist\n",
    "if not os.path.exists(\"output\"):\n",
    "    os.makedirs(\"output\")\n",
    "\n",
    "data_dir = \"output\"\n",
    "\n",
    "#Download modeled data into output folder\n",
    "AGG_df2.to_csv(f\"{data_dir}/Lab1-2.csv\")"
   ]
  }
 ],
 "metadata": {
  "kernelspec": {
   "display_name": "em_bootcathon_env",
   "language": "python",
   "name": "python3"
  },
  "language_info": {
   "codemirror_mode": {
    "name": "ipython",
    "version": 3
   },
   "file_extension": ".py",
   "mimetype": "text/x-python",
   "name": "python",
   "nbconvert_exporter": "python",
   "pygments_lexer": "ipython3",
   "version": "3.10.14"
  }
 },
 "nbformat": 4,
 "nbformat_minor": 5
}
