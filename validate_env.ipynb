{
 "cells": [
  {
   "cell_type": "code",
   "execution_count": null,
   "metadata": {},
   "outputs": [
    {
     "ename": "",
     "evalue": "",
     "output_type": "error",
     "traceback": [
      "\u001b[1;31mRunning cells with 'base (Python 3.12.4)' requires the ipykernel package.\n",
      "\u001b[1;31mRun the following command to install 'ipykernel' into the Python environment. \n",
      "\u001b[1;31mCommand: 'conda install -n base ipykernel --update-deps --force-reinstall'"
     ]
    }
   ],
   "source": [
    "import importlib\n",
    "\n",
    "def check_libraries_from_yaml(yaml_file: str):\n",
    "    with open(yaml_file, 'r') as _file:\n",
    "        dependencies = []\n",
    "        is_dependencies_section = False\n",
    "\n",
    "        for _line in _file:\n",
    "            _line = _line.strip()\n",
    "\n",
    "            if _line.startswith('dependencies:'):\n",
    "                is_dependencies_section = True\n",
    "                continue\n",
    "            \n",
    "            if is_dependencies_section and _line.startswith('-'):\n",
    "                dependency = _line[1:].strip()\n",
    "                if dependency:\n",
    "                    dependencies.append(dependency)\n",
    "        \n",
    "        for _dependency in dependencies:\n",
    "            library_name = extract_library_name(_dependency)\n",
    "            check_library(library_name)\n",
    "\n",
    "def extract_library_name(_dependency_line: str):\n",
    "    if '=' in _dependency_line:\n",
    "        return _dependency_line.split('==')[0].strip()\n",
    "    else:\n",
    "        return _dependency_line\n",
    "\n",
    "\n",
    "def check_library(library: str):\n",
    "    CRED = '\\033[91m'\n",
    "    CEND = '\\033[0m'\n",
    "\n",
    "    # Exceptions\n",
    "    if library == 'python': \n",
    "        return\n",
    "    if library == 'scikit-learn':\n",
    "        library = 'sklearn'\n",
    "\n",
    "    try:\n",
    "        importlib.import_module(library)\n",
    "        print(f\"{library} is installed.\")\n",
    "    except ImportError:\n",
    "        print(CRED+f\"missing {library}.\"+CEND)\n",
    "\n",
    "if __name__ == \"__main__\":\n",
    "    check_libraries_from_yaml(yaml_file='environment.yml')"
   ]
  },
  {
   "cell_type": "code",
   "execution_count": null,
   "metadata": {},
   "outputs": [
    {
     "ename": "",
     "evalue": "",
     "output_type": "error",
     "traceback": [
      "\u001b[1;31mRunning cells with 'base (Python 3.12.4)' requires the ipykernel package.\n",
      "\u001b[1;31mRun the following command to install 'ipykernel' into the Python environment. \n",
      "\u001b[1;31mCommand: 'conda install -n base ipykernel --update-deps --force-reinstall'"
     ]
    }
   ],
   "source": []
  }
 ],
 "metadata": {
  "kernelspec": {
   "display_name": "Python 3",
   "language": "python",
   "name": "python3"
  },
  "language_info": {
   "codemirror_mode": {
    "name": "ipython",
    "version": 3
   },
   "file_extension": ".py",
   "mimetype": "text/x-python",
   "name": "python",
   "nbconvert_exporter": "python",
   "pygments_lexer": "ipython3",
   "version": "3.12.4"
  }
 },
 "nbformat": 4,
 "nbformat_minor": 2
}
